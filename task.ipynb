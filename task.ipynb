{
 "cells": [
  {
   "cell_type": "markdown",
   "metadata": {},
   "source": [
    "# Read the csv or excel file."
   ]
  },
  {
   "cell_type": "code",
   "execution_count": 140,
   "metadata": {},
   "outputs": [],
   "source": [
    "import pandas as pd \n",
    "import numpy as np"
   ]
  },
  {
   "cell_type": "code",
   "execution_count": 141,
   "metadata": {},
   "outputs": [],
   "source": [
    "data=pd.read_csv('C:/Users/aditya/Desktop/NeenOpal/used_bikes.csv')"
   ]
  },
  {
   "cell_type": "code",
   "execution_count": 142,
   "metadata": {},
   "outputs": [
    {
     "data": {
      "text/html": [
       "<div>\n",
       "<style scoped>\n",
       "    .dataframe tbody tr th:only-of-type {\n",
       "        vertical-align: middle;\n",
       "    }\n",
       "\n",
       "    .dataframe tbody tr th {\n",
       "        vertical-align: top;\n",
       "    }\n",
       "\n",
       "    .dataframe thead th {\n",
       "        text-align: right;\n",
       "    }\n",
       "</style>\n",
       "<table border=\"1\" class=\"dataframe\">\n",
       "  <thead>\n",
       "    <tr style=\"text-align: right;\">\n",
       "      <th></th>\n",
       "      <th>bike_name</th>\n",
       "      <th>price</th>\n",
       "      <th>city</th>\n",
       "      <th>kms_driven</th>\n",
       "      <th>owner</th>\n",
       "      <th>age</th>\n",
       "      <th>power</th>\n",
       "      <th>brand</th>\n",
       "    </tr>\n",
       "  </thead>\n",
       "  <tbody>\n",
       "    <tr>\n",
       "      <th>0</th>\n",
       "      <td>TVS Star City Plus Dual Tone 110cc</td>\n",
       "      <td>35000.0</td>\n",
       "      <td>Ahmedabad</td>\n",
       "      <td>17654.0</td>\n",
       "      <td>First Owner</td>\n",
       "      <td>3.0</td>\n",
       "      <td>110.0</td>\n",
       "      <td>TVS</td>\n",
       "    </tr>\n",
       "    <tr>\n",
       "      <th>1</th>\n",
       "      <td>Royal Enfield Classic 350cc</td>\n",
       "      <td>119900.0</td>\n",
       "      <td>Delhi</td>\n",
       "      <td>11000.0</td>\n",
       "      <td>First Owner</td>\n",
       "      <td>4.0</td>\n",
       "      <td>350.0</td>\n",
       "      <td>Royal Enfield</td>\n",
       "    </tr>\n",
       "    <tr>\n",
       "      <th>2</th>\n",
       "      <td>Triumph Daytona 675R</td>\n",
       "      <td>600000.0</td>\n",
       "      <td>Delhi</td>\n",
       "      <td>110.0</td>\n",
       "      <td>First Owner</td>\n",
       "      <td>8.0</td>\n",
       "      <td>675.0</td>\n",
       "      <td>Triumph</td>\n",
       "    </tr>\n",
       "    <tr>\n",
       "      <th>3</th>\n",
       "      <td>TVS Apache RTR 180cc</td>\n",
       "      <td>65000.0</td>\n",
       "      <td>Bangalore</td>\n",
       "      <td>16329.0</td>\n",
       "      <td>First Owner</td>\n",
       "      <td>4.0</td>\n",
       "      <td>180.0</td>\n",
       "      <td>TVS</td>\n",
       "    </tr>\n",
       "    <tr>\n",
       "      <th>4</th>\n",
       "      <td>Yamaha FZ S V 2.0 150cc-Ltd. Edition</td>\n",
       "      <td>80000.0</td>\n",
       "      <td>Bangalore</td>\n",
       "      <td>10000.0</td>\n",
       "      <td>First Owner</td>\n",
       "      <td>3.0</td>\n",
       "      <td>150.0</td>\n",
       "      <td>Yamaha</td>\n",
       "    </tr>\n",
       "    <tr>\n",
       "      <th>5</th>\n",
       "      <td>Yamaha FZs 150cc</td>\n",
       "      <td>53499.0</td>\n",
       "      <td>Delhi</td>\n",
       "      <td>25000.0</td>\n",
       "      <td>First Owner</td>\n",
       "      <td>6.0</td>\n",
       "      <td>150.0</td>\n",
       "      <td>Yamaha</td>\n",
       "    </tr>\n",
       "    <tr>\n",
       "      <th>6</th>\n",
       "      <td>Honda CB Hornet 160R  ABS DLX</td>\n",
       "      <td>85000.0</td>\n",
       "      <td>Delhi</td>\n",
       "      <td>8200.0</td>\n",
       "      <td>First Owner</td>\n",
       "      <td>3.0</td>\n",
       "      <td>160.0</td>\n",
       "      <td>Honda</td>\n",
       "    </tr>\n",
       "    <tr>\n",
       "      <th>7</th>\n",
       "      <td>Hero Splendor Plus Self Alloy 100cc</td>\n",
       "      <td>45000.0</td>\n",
       "      <td>Delhi</td>\n",
       "      <td>12645.0</td>\n",
       "      <td>First Owner</td>\n",
       "      <td>3.0</td>\n",
       "      <td>100.0</td>\n",
       "      <td>Hero</td>\n",
       "    </tr>\n",
       "    <tr>\n",
       "      <th>8</th>\n",
       "      <td>Royal Enfield Thunderbird X 350cc</td>\n",
       "      <td>145000.0</td>\n",
       "      <td>Bangalore</td>\n",
       "      <td>9190.0</td>\n",
       "      <td>First Owner</td>\n",
       "      <td>3.0</td>\n",
       "      <td>350.0</td>\n",
       "      <td>Royal Enfield</td>\n",
       "    </tr>\n",
       "    <tr>\n",
       "      <th>9</th>\n",
       "      <td>Royal Enfield Classic Desert Storm 500cc</td>\n",
       "      <td>88000.0</td>\n",
       "      <td>Delhi</td>\n",
       "      <td>19000.0</td>\n",
       "      <td>Second Owner</td>\n",
       "      <td>7.0</td>\n",
       "      <td>500.0</td>\n",
       "      <td>Royal Enfield</td>\n",
       "    </tr>\n",
       "  </tbody>\n",
       "</table>\n",
       "</div>"
      ],
      "text/plain": [
       "                                  bike_name     price       city  kms_driven  \\\n",
       "0        TVS Star City Plus Dual Tone 110cc   35000.0  Ahmedabad     17654.0   \n",
       "1               Royal Enfield Classic 350cc  119900.0      Delhi     11000.0   \n",
       "2                      Triumph Daytona 675R  600000.0      Delhi       110.0   \n",
       "3                      TVS Apache RTR 180cc   65000.0  Bangalore     16329.0   \n",
       "4      Yamaha FZ S V 2.0 150cc-Ltd. Edition   80000.0  Bangalore     10000.0   \n",
       "5                          Yamaha FZs 150cc   53499.0      Delhi     25000.0   \n",
       "6             Honda CB Hornet 160R  ABS DLX   85000.0      Delhi      8200.0   \n",
       "7       Hero Splendor Plus Self Alloy 100cc   45000.0      Delhi     12645.0   \n",
       "8         Royal Enfield Thunderbird X 350cc  145000.0  Bangalore      9190.0   \n",
       "9  Royal Enfield Classic Desert Storm 500cc   88000.0      Delhi     19000.0   \n",
       "\n",
       "          owner  age  power          brand  \n",
       "0   First Owner  3.0  110.0            TVS  \n",
       "1   First Owner  4.0  350.0  Royal Enfield  \n",
       "2   First Owner  8.0  675.0        Triumph  \n",
       "3   First Owner  4.0  180.0            TVS  \n",
       "4   First Owner  3.0  150.0         Yamaha  \n",
       "5   First Owner  6.0  150.0         Yamaha  \n",
       "6   First Owner  3.0  160.0          Honda  \n",
       "7   First Owner  3.0  100.0           Hero  \n",
       "8   First Owner  3.0  350.0  Royal Enfield  \n",
       "9  Second Owner  7.0  500.0  Royal Enfield  "
      ]
     },
     "execution_count": 142,
     "metadata": {},
     "output_type": "execute_result"
    }
   ],
   "source": [
    "data.head(10)"
   ]
  },
  {
   "cell_type": "markdown",
   "metadata": {},
   "source": [
    "# Change the datatypes of the column and check the memory usage before and after the \n",
    "# change in the data types"
   ]
  },
  {
   "cell_type": "code",
   "execution_count": 143,
   "metadata": {},
   "outputs": [
    {
     "data": {
      "text/plain": [
       "bike_name      object\n",
       "price         float64\n",
       "city           object\n",
       "kms_driven    float64\n",
       "owner          object\n",
       "age           float64\n",
       "power         float64\n",
       "brand          object\n",
       "dtype: object"
      ]
     },
     "execution_count": 143,
     "metadata": {},
     "output_type": "execute_result"
    }
   ],
   "source": [
    "# checking the datatypes\n",
    "data.dtypes"
   ]
  },
  {
   "cell_type": "code",
   "execution_count": 144,
   "metadata": {},
   "outputs": [
    {
     "data": {
      "text/plain": [
       "Index          128\n",
       "bike_name     1192\n",
       "price         1192\n",
       "city          1192\n",
       "kms_driven    1192\n",
       "owner         1192\n",
       "age           1192\n",
       "power         1192\n",
       "brand         1192\n",
       "dtype: int64"
      ]
     },
     "execution_count": 144,
     "metadata": {},
     "output_type": "execute_result"
    }
   ],
   "source": [
    "data.memory_usage()"
   ]
  },
  {
   "cell_type": "code",
   "execution_count": 145,
   "metadata": {},
   "outputs": [
    {
     "data": {
      "text/plain": [
       "Index(['bike_name', 'price', 'city', 'kms_driven', 'owner', 'age', 'power',\n",
       "       'brand'],\n",
       "      dtype='object')"
      ]
     },
     "execution_count": 145,
     "metadata": {},
     "output_type": "execute_result"
    }
   ],
   "source": [
    "data.columns"
   ]
  },
  {
   "cell_type": "code",
   "execution_count": 146,
   "metadata": {},
   "outputs": [],
   "source": [
    "data_types_dict = {'bike_name':str,'price': int,'city':str,'kms_driven':int,'owner':str,'power':int,'age':int,'brand':str}"
   ]
  },
  {
   "cell_type": "code",
   "execution_count": 147,
   "metadata": {},
   "outputs": [],
   "source": [
    "df = data.astype(data_types_dict)"
   ]
  },
  {
   "cell_type": "code",
   "execution_count": 148,
   "metadata": {},
   "outputs": [
    {
     "data": {
      "text/plain": [
       "bike_name     object\n",
       "price          int32\n",
       "city          object\n",
       "kms_driven     int32\n",
       "owner         object\n",
       "age            int32\n",
       "power          int32\n",
       "brand         object\n",
       "dtype: object"
      ]
     },
     "execution_count": 148,
     "metadata": {},
     "output_type": "execute_result"
    }
   ],
   "source": [
    "df.dtypes"
   ]
  },
  {
   "cell_type": "markdown",
   "metadata": {},
   "source": [
    "# MEMORY USAGE AFTER CHANGING THE DATATYPES"
   ]
  },
  {
   "cell_type": "code",
   "execution_count": 149,
   "metadata": {},
   "outputs": [
    {
     "data": {
      "text/plain": [
       "Index          128\n",
       "bike_name     1192\n",
       "price          596\n",
       "city          1192\n",
       "kms_driven     596\n",
       "owner         1192\n",
       "age            596\n",
       "power          596\n",
       "brand         1192\n",
       "dtype: int64"
      ]
     },
     "execution_count": 149,
     "metadata": {},
     "output_type": "execute_result"
    }
   ],
   "source": [
    "\n",
    "df.memory_usage()"
   ]
  },
  {
   "cell_type": "markdown",
   "metadata": {},
   "source": [
    "# Dump the data into the mysql database"
   ]
  },
  {
   "cell_type": "code",
   "execution_count": 203,
   "metadata": {},
   "outputs": [
    {
     "name": "stdout",
     "output_type": "stream",
     "text": [
      "[('abcde',), ('adityadb',), ('information_schema',), ('mydatabase',), ('mysql',), ('neenopal_task',), ('performance_schema',), ('swiggy',)]\n"
     ]
    }
   ],
   "source": [
    "import mysql.connector as connection\n",
    "\n",
    "try:\n",
    "    mydb = connection.connect(host=\"localhost\",port='3307', user=\"root\", password=\"aditya@1\")\n",
    "    # check if the connection is established\n",
    "\n",
    "    query = \"SHOW DATABASES\"\n",
    "\n",
    "    cursor = mydb.cursor() #create a cursor to execute queries\n",
    "    cursor.execute(query)\n",
    "    print(cursor.fetchall())\n",
    "\n",
    "except Exception as e:\n",
    "    print(str(e))"
   ]
  },
  {
   "cell_type": "code",
   "execution_count": 209,
   "metadata": {},
   "outputs": [],
   "source": [
    "df.to_csv(\"clean_file.csv\")"
   ]
  },
  {
   "cell_type": "code",
   "execution_count": 202,
   "metadata": {},
   "outputs": [
    {
     "data": {
      "text/html": [
       "<div>\n",
       "<style scoped>\n",
       "    .dataframe tbody tr th:only-of-type {\n",
       "        vertical-align: middle;\n",
       "    }\n",
       "\n",
       "    .dataframe tbody tr th {\n",
       "        vertical-align: top;\n",
       "    }\n",
       "\n",
       "    .dataframe thead th {\n",
       "        text-align: right;\n",
       "    }\n",
       "</style>\n",
       "<table border=\"1\" class=\"dataframe\">\n",
       "  <thead>\n",
       "    <tr style=\"text-align: right;\">\n",
       "      <th></th>\n",
       "      <th>bike_name</th>\n",
       "      <th>price</th>\n",
       "      <th>city</th>\n",
       "      <th>kms_driven</th>\n",
       "      <th>owner</th>\n",
       "      <th>age</th>\n",
       "      <th>power</th>\n",
       "      <th>brand</th>\n",
       "    </tr>\n",
       "  </thead>\n",
       "  <tbody>\n",
       "    <tr>\n",
       "      <th>0</th>\n",
       "      <td>TVS Star City Plus Dual Tone 110cc</td>\n",
       "      <td>35000</td>\n",
       "      <td>Ahmedabad</td>\n",
       "      <td>17654</td>\n",
       "      <td>First Owner</td>\n",
       "      <td>3</td>\n",
       "      <td>110</td>\n",
       "      <td>TVS</td>\n",
       "    </tr>\n",
       "    <tr>\n",
       "      <th>1</th>\n",
       "      <td>Royal Enfield Classic 350cc</td>\n",
       "      <td>119900</td>\n",
       "      <td>Delhi</td>\n",
       "      <td>11000</td>\n",
       "      <td>First Owner</td>\n",
       "      <td>4</td>\n",
       "      <td>350</td>\n",
       "      <td>Royal Enfield</td>\n",
       "    </tr>\n",
       "    <tr>\n",
       "      <th>2</th>\n",
       "      <td>Triumph Daytona 675R</td>\n",
       "      <td>600000</td>\n",
       "      <td>Delhi</td>\n",
       "      <td>110</td>\n",
       "      <td>First Owner</td>\n",
       "      <td>8</td>\n",
       "      <td>675</td>\n",
       "      <td>Triumph</td>\n",
       "    </tr>\n",
       "    <tr>\n",
       "      <th>3</th>\n",
       "      <td>TVS Apache RTR 180cc</td>\n",
       "      <td>65000</td>\n",
       "      <td>Bangalore</td>\n",
       "      <td>16329</td>\n",
       "      <td>First Owner</td>\n",
       "      <td>4</td>\n",
       "      <td>180</td>\n",
       "      <td>TVS</td>\n",
       "    </tr>\n",
       "    <tr>\n",
       "      <th>4</th>\n",
       "      <td>Yamaha FZ S V 2.0 150cc-Ltd. Edition</td>\n",
       "      <td>80000</td>\n",
       "      <td>Bangalore</td>\n",
       "      <td>10000</td>\n",
       "      <td>First Owner</td>\n",
       "      <td>3</td>\n",
       "      <td>150</td>\n",
       "      <td>Yamaha</td>\n",
       "    </tr>\n",
       "  </tbody>\n",
       "</table>\n",
       "</div>"
      ],
      "text/plain": [
       "                              bike_name   price       city  kms_driven  \\\n",
       "0    TVS Star City Plus Dual Tone 110cc   35000  Ahmedabad       17654   \n",
       "1           Royal Enfield Classic 350cc  119900      Delhi       11000   \n",
       "2                  Triumph Daytona 675R  600000      Delhi         110   \n",
       "3                  TVS Apache RTR 180cc   65000  Bangalore       16329   \n",
       "4  Yamaha FZ S V 2.0 150cc-Ltd. Edition   80000  Bangalore       10000   \n",
       "\n",
       "         owner  age  power          brand  \n",
       "0  First Owner    3    110            TVS  \n",
       "1  First Owner    4    350  Royal Enfield  \n",
       "2  First Owner    8    675        Triumph  \n",
       "3  First Owner    4    180            TVS  \n",
       "4  First Owner    3    150         Yamaha  "
      ]
     },
     "execution_count": 202,
     "metadata": {},
     "output_type": "execute_result"
    }
   ],
   "source": [
    "df.head()"
   ]
  },
  {
   "cell_type": "code",
   "execution_count": 226,
   "metadata": {},
   "outputs": [
    {
     "name": "stdout",
     "output_type": "stream",
     "text": [
      "('TVS Star City Plus Dual Tone 110cc', '35000', 'Ahmedabad', '17654', 'First Owner', '3', '110', 'TVS')\n",
      "('Royal Enfield Classic 350cc', '119900', 'Delhi', '11000', 'First Owner', '4', '350', 'Royal Enfield')\n",
      "('Triumph Daytona 675R', '600000', 'Delhi', '110', 'First Owner', '8', '675', 'Triumph')\n",
      "('TVS Apache RTR 180cc', '65000', 'Bangalore', '16329', 'First Owner', '4', '180', 'TVS')\n",
      "('Yamaha FZ S V 2.0 150cc-Ltd. Edition', '80000', 'Bangalore', '10000', 'First Owner', '3', '150', 'Yamaha')\n",
      "('Yamaha FZs 150cc', '53499', 'Delhi', '25000', 'First Owner', '6', '150', 'Yamaha')\n",
      "('Honda CB Hornet 160R  ABS DLX', '85000', 'Delhi', '8200', 'First Owner', '3', '160', 'Honda')\n",
      "('Hero Splendor Plus Self Alloy 100cc', '45000', 'Delhi', '12645', 'First Owner', '3', '100', 'Hero')\n",
      "('Royal Enfield Thunderbird X 350cc', '145000', 'Bangalore', '9190', 'First Owner', '3', '350', 'Royal Enfield')\n",
      "('Royal Enfield Classic Desert Storm 500cc', '88000', 'Delhi', '19000', 'Second Owner', '7', '500', 'Royal Enfield')\n",
      "('Yamaha YZF-R15 2.0 150cc', '72000', 'Bangalore', '20000', 'First Owner', '7', '150', 'Yamaha')\n",
      "('Yamaha FZ25 250cc', '95000', 'Bangalore', '9665', 'First Owner', '4', '250', 'Yamaha')\n",
      "('Bajaj Pulsar NS200', '78000', 'Bangalore', '9900', 'First Owner', '4', '200', 'Bajaj')\n",
      "('Bajaj Discover 100M', '29499', 'Delhi', '20000', 'First Owner', '8', '100', 'Bajaj')\n",
      "('Bajaj Discover 125M', '29900', 'Delhi', '20000', 'First Owner', '7', '125', 'Bajaj')\n",
      "('Bajaj Pulsar NS200 ABS', '90000', 'Bangalore', '11574', 'First Owner', '3', '200', 'Bajaj')\n",
      "('Bajaj Pulsar RS200 ABS', '120000', 'Bangalore', '23000', 'First Owner', '3', '200', 'Bajaj')\n",
      "('Suzuki Gixxer SF 150cc', '48000', 'Mumbai', '24725', 'First Owner', '5', '150', 'Suzuki')\n",
      "('Benelli 302R 300CC', '240000', 'Mumbai', '15025', 'Second Owner', '3', '302', 'Benelli')\n",
      "('Bajaj Discover 125M', '29900', 'Delhi', '20000', 'First Owner', '7', '125', 'Bajaj')\n",
      "('Bajaj Pulsar RS200 ABS', '120000', 'Bangalore', '23000', 'First Owner', '3', '200', 'Bajaj')\n",
      "('Suzuki Gixxer SF 150cc', '48000', 'Mumbai', '24725', 'First Owner', '5', '150', 'Suzuki')\n",
      "('Hero Splendor iSmart Plus IBS 110cc', '46500', 'Delhi', '3500', 'First Owner', '2', '110', 'Hero')\n",
      "('Royal Enfield Classic Chrome 500cc', '121700', 'Kalyan', '24520', 'First Owner', '5', '500', 'Royal Enfield')\n",
      "('Yamaha FZ V 2.0 150cc', '45000', 'Delhi', '23000', 'First Owner', '6', '150', 'Yamaha')\n",
      "('Bajaj Pulsar NS200', '78000', 'Bangalore', '9900', 'First Owner', '4', '200', 'Bajaj')\n",
      "('Hero Super Splendor 125cc', '20000', 'Ahmedabad', '29305', 'First Owner', '16', '125', 'Hero')\n",
      "('Honda CBF Stunner 125cc', '20800', 'Faridabad', '30500', 'Second Owner', '7', '125', 'Honda')\n",
      "('Bajaj Pulsar 150cc', '50000', 'Bangalore', '19000', 'First Owner', '8', '150', 'Bajaj')\n",
      "('Honda X-Blade 160CC ABS', '81200', 'Mettur', '9100', 'First Owner', '2', '160', 'Honda')\n",
      "('Bajaj Pulsar NS200', '88000', 'Hyderabad', '21914', 'First Owner', '3', '200', 'Bajaj')\n",
      "('Yamaha YZF-R15 2.0 150cc', '80000', 'Kaithal', '20000', 'Second Owner', '4', '150', 'Yamaha')\n",
      "('Bajaj Avenger 220cc', '40900', 'Gurgaon', '15000', 'First Owner', '6', '220', 'Bajaj')\n",
      "('KTM RC 390cc', '180000', 'Pune', '17700', 'First Owner', '4', '390', 'KTM')\n",
      "('Honda CB Unicorn 150cc', '40000', 'Noida', '30000', 'First Owner', '8', '150', 'Honda')\n",
      "('KTM Duke 200cc', '70000', 'Nashik', '100000', 'Second Owner', '8', '200', 'KTM')\n",
      "('Royal Enfield Classic 350cc', '98800', 'Kochi', '39000', 'First Owner', '5', '350', 'Royal Enfield')\n",
      "('Honda CBR 150R 150cc', '65000', 'Allahabad', '43000', 'First Owner', '6', '150', 'Honda')\n",
      "('Royal Enfield Thunderbird X 500cc', '190500', 'Samastipur', '4550', 'First Owner', '2', '500', 'Royal Enfield')\n",
      "('KTM RC 200cc ABS', '179000', 'Bangalore', '3400', 'First Owner', '2', '200', 'KTM')\n",
      "('Royal Enfield Thunderbird 350cc', '70000', 'Nadiad', '45000', 'First Owner', '8', '350', 'Royal Enfield')\n",
      "('Bajaj Avenger 220cc', '45000', 'Hyderabad', '36100', 'First Owner', '6', '220', 'Bajaj')\n",
      "('Royal Enfield Bullet Electra 350cc', '78000', 'Lucknow', '8500', 'First Owner', '13', '350', 'Royal Enfield')\n",
      "('Bajaj Avenger Street 220 ABS', '110000', 'Bangalore', '2550', 'First Owner', '2', '220', 'Bajaj')\n",
      "('Royal Enfield Classic 350cc', '85000', 'Delhi', '18000', 'First Owner', '6', '350', 'Royal Enfield')\n",
      "('Bajaj Pulsar NS200', '38000', 'Delhi', '35000', 'First Owner', '9', '200', 'Bajaj')\n",
      "('Royal Enfield Thunderbird 350cc', '55346', 'Noida', '38000', 'First Owner', '10', '350', 'Royal Enfield')\n",
      "('Mahindra Centuro NXT 110cc', '28000', 'Jaipur', '45000', 'First Owner', '2', '110', 'Mahindra')\n",
      "('Hero Hunk 150cc', '37000', 'Mumbai', '10800', 'First Owner', '8', '150', 'Hero')\n",
      "('Suzuki Gixxer SF Fi 150cc SP ABS', '97000', 'Delhi', '4400', 'First Owner', '3', '150', 'Suzuki')\n",
      "('Yamaha FZ 150cc', '40000', 'Karnal', '357000', 'First Owner', '8', '150', 'Yamaha')\n",
      "('Royal Enfieldâ€Ž Bullet 350cc', '90000', 'Delhi', '15300', 'First Owner', '7', '350', 'Royal Enfield')\n",
      "('TVS Apache RTR 160cc', '60000', 'Mumbai', '30000', 'First Owner', '5', '160', 'TVS')\n",
      "('Honda CB Shine 125cc', '21900', 'Gorakhpur', '30000', 'Second Owner', '7', '125', 'Honda')\n",
      "('Bajaj Avenger 220cc', '40000', 'Ahmedabad', '64000', 'First Owner', '7', '220', 'Bajaj')\n",
      "('Benelli TNT 600i ABS', '475000', 'Mumbai', '11500', 'Second Owner', '3', '600', 'Benelli')\n",
      "('Honda Dream Yuga 110cc', '34500', 'Ahmedabad', '17056', 'First Owner', '5', '110', 'Honda')\n",
      "('Yamaha SZ 150cc', '25000', 'Vidisha', '172082', 'First Owner', '9', '150', 'Yamaha')\n",
      "('Suzuki Gixxer 150cc', '30200', 'Bangalore', '45000', 'First Owner', '7', '150', 'Suzuki')\n",
      "('Bajaj Avenger Cruise 220', '65000', 'Hosur', '35000', 'First Owner', '5', '220', 'Bajaj')\n",
      "('Bajaj Pulsar 150cc', '25000', 'Mumbai', '38000', 'First Owner', '9', '150', 'Bajaj')\n",
      "('Kawasaki Z900', '935000', 'Bagalkot', '2500', 'First Owner', '2', '900', 'Kawasaki')\n",
      "('Royal Enfield Bullet Electra 350cc', '107100', 'Delhi', '15438', 'Second Owner', '3', '350', 'Royal Enfield')\n",
      "('Bajaj Pulsar 220cc', '80000', 'Delhi', '6000', 'First Owner', '3', '220', 'Bajaj')\n",
      "('Royal Enfield Thunderbird 350cc', '88000', 'Delhi', '19000', 'First Owner', '5', '350', 'Royal Enfield')\n",
      "('KTM Duke 200cc', '94700', 'Baripara', '32700', 'First Owner', '4', '200', 'KTM')\n",
      "('Hero CD Deluxe 100cc', '12200', 'Agra', '46643', 'First Owner', '14', '100', 'Hero')\n",
      "('Royal Enfield Classic 350cc', '106000', 'Delhi', '19000', 'First Owner', '6', '350', 'Royal Enfield')\n",
      "('Bajaj Pulsar 220cc', '29500', 'Hyderabad', '40700', 'First Owner', '12', '220', 'Bajaj')\n",
      "('Kawasaki Ninja 650cc', '290000', 'Dharwad', '11350', 'First Owner', '7', '650', 'Kawasaki')\n",
      "('Royal Enfield Thunderbird 350cc', '110000', 'Delhi', '1600', 'First Owner', '6', '350', 'Royal Enfield')\n",
      "('Bajaj Platina 125cc', '27000', 'Vadodara', '44410', 'First Owner', '10', '125', 'Bajaj')\n",
      "('Royal Enfield Thunderbird 350cc', '65000', 'Jalandhar', '9800', 'First Owner', '11', '350', 'Royal Enfield')\n",
      "('Royal Enfield Thunderbird X 350cc', '150000', 'Bangalore', '15000', 'First Owner', '3', '350', 'Royal Enfield')\n",
      "('Hero Karizma ZMR 223cc', '55786', 'Surat', '68000', 'Second Owner', '7', '223', 'Hero')\n",
      "('Bajaj Pulsar 180cc', '45000', 'Bangalore', '17757', 'First Owner', '8', '180', 'Bajaj')\n",
      "('Yamaha FZ25 ABS 250cc', '146000', 'Chennai', '3900', 'First Owner', '2', '250', 'Yamaha')\n",
      "('Royal Enfield Thunderbird 350cc', '115000', 'Bangalore', '23700', 'First Owner', '4', '350', 'Royal Enfield')\n",
      "('Bajaj CT 100 100cc', '30000', 'Noida', '8250', 'First Owner', '3', '100', 'Bajaj')\n",
      "('Bajaj Pulsar RS200 ABS', '93100', 'Mumbai', '10000', 'First Owner', '5', '200', 'Bajaj')\n",
      "('Yamaha YZF-R15 2.0 150cc', '82000', 'Mumbai', '4300', 'Second Owner', '3', '150', 'Yamaha')\n",
      "('Royal Enfield Interceptor 650cc', '260000', 'Navi Mumbai', '3800', 'First Owner', '2', '650', 'Royal Enfield')\n",
      "('Honda CB Shine 125cc', '38000', 'Bangalore', '33000', 'First Owner', '7', '125', 'Honda')\n",
      "('KTM Duke 250cc', '130000', 'Gandhidham', '17500', 'Second Owner', '4', '250', 'KTM')\n",
      "('Royal Enfield Himalayan 410cc', '118000', 'Gurgaon', '19000', 'First Owner', '4', '410', 'Royal Enfield')\n",
      "('Bajaj Pulsar 135LS', '14700', 'Delhi', '10000', 'First Owner', '11', '135', 'Bajaj')\n",
      "('Royal Enfield Thunderbird 350cc', '85000', 'Chennai', '54000', 'First Owner', '6', '350', 'Royal Enfield')\n",
      "('Bajaj Pulsar 220F', '40000', 'Mumbai', '27000', 'First Owner', '7', '220', 'Bajaj')\n",
      "('Yamaha FZ16 150cc', '50000', 'Bangalore', '19000', 'First Owner', '6', '150', 'Yamaha')\n",
      "('Royal Enfield Thunderbird 350cc', '71800', 'Mumbai', '43500', 'First Owner', '7', '350', 'Royal Enfield')\n",
      "('Royal Enfield Thunderbird 350cc', '71800', 'Mumbai', '43500', 'First Owner', '7', '350', 'Royal Enfield')\n",
      "('Bajaj Pulsar NS200', '75000', 'Bangalore', '11575', 'First Owner', '4', '200', 'Bajaj')\n",
      "('Ducati Scrambler 1100 Special', '1350000', 'Mumbai', '190', 'First Owner', '1', '1100', 'Ducati')\n",
      "('Triumph Street Triple 765', '790000', 'Mumbai', '19000', 'First Owner', '3', '765', 'Triumph')\n",
      "('Bajaj V15 150cc', '47000', 'Bangalore', '8600', 'First Owner', '4', '150', 'Bajaj')\n",
      "('Bajaj Pulsar 150cc', '60000', 'Pune', '2000', 'First Owner', '2', '150', 'Bajaj')\n",
      "('Suzuki Gixxer Fi 150cc ABS', '96700', 'Vadodara', '5100', 'First Owner', '1', '150', 'Suzuki')\n",
      "('Hero Splendor plus 100cc', '31900', 'Delhi', '9000', 'First Owner', '5', '100', 'Hero')\n",
      "('Bajaj Pulsar 150cc', '35000', 'Visakhapatnam', '44480', 'First Owner', '13', '150', 'Bajaj')\n",
      "('KTM Duke 390cc', '240000', 'Bangalore', '11000', 'First Owner', '3', '390', 'KTM')\n",
      "('Honda CBR 250R', '68000', 'Delhi', '16000', 'First Owner', '7', '250', 'Honda')\n",
      "('Bajaj Pulsar RS200', '80000', 'Bangalore', '26691', 'First Owner', '5', '200', 'Bajaj')\n",
      "('Royal Enfield Classic 350cc', '135000', 'Bangalore', '45000', 'First Owner', '5', '350', 'Royal Enfield')\n",
      "('Bajaj Pulsar 150cc', '11100', 'Pune', '12000', 'Third Owner', '12', '150', 'Bajaj')\n",
      "('Benelli TNT 600i', '480000', 'Mumbai', '14200', 'First Owner', '4', '600', 'Benelli')\n",
      "('Suzuki Gixxer 150cc SP Rear Disc', '65000', 'Thrissur', '41000', 'First Owner', '3', '150', 'Suzuki')\n",
      "('Yamaha FZ S V 2.0 150cc', '60000', 'Bangalore', '15000', 'First Owner', '5', '150', 'Yamaha')\n",
      "('Honda CBR 150R 150cc', '80000', 'Bangalore', '12314', 'First Owner', '4', '150', 'Honda')\n",
      "('Hero Splendor Plus Self Alloy 100cc', '46000', 'Delhi', '11760', 'First Owner', '3', '100', 'Hero')\n",
      "('Royal Enfield Classic 500cc', '95000', 'Bangalore', '22000', 'First Owner', '11', '500', 'Royal Enfield')\n",
      "('Hyosung GT650R', '400000', 'Delhi', '1800', 'First Owner', '4', '650', 'Hyosung')\n",
      "('Bajaj V15 150cc', '55000', 'Bangalore', '4400', 'First Owner', '4', '150', 'Bajaj')\n",
      "('Yamaha YZF-R15 S 150cc', '63000', 'Delhi', '16000', 'First Owner', '5', '150', 'Yamaha')\n",
      "('Bajaj V15 150cc', '51000', 'Faridabad', '9000', 'First Owner', '4', '150', 'Bajaj')\n",
      "('TVS Apache RTR 160 4V Disc', '69900', 'Delhi', '8700', 'First Owner', '3', '160', 'TVS')\n",
      "('Bajaj Pulsar RS200 ABS', '125000', 'Gorakhpur', '1342', 'First Owner', '4', '200', 'Bajaj')\n",
      "('Benelli TNT 300', '210000', 'Kolkata', '21000', 'First Owner', '6', '300', 'Benelli')\n",
      "('Honda CB ShineSP 125cc', '35900', 'Delhi', '19000', 'First Owner', '5', '125', 'Honda')\n",
      "('Honda CBR 250R', '67000', 'Delhi', '13000', 'First Owner', '9', '250', 'Honda')\n",
      "('Hero Passion Pro 100cc', '29339', 'Ernakulam', '12771', 'First Owner', '4', '100', 'Hero')\n",
      "('Hero Splendor Plus 100cc', '19695', 'Ernakulam', '51576', 'First Owner', '6', '100', 'Hero')\n",
      "('Hero Splendor iSmart Plus IBS 110cc', '48672', 'Ernakulam', '608', 'First Owner', '2', '110', 'Hero')\n",
      "('Honda CBR 150R 150cc', '40000', 'Mumbai', '13680', 'First Owner', '9', '150', 'Honda')\n",
      "('Yamaha YZF R6 600cc', '500000', 'Bangalore', '285', 'First Owner', '5', '600', 'Yamaha')\n",
      "('Ducati 1299 Superleggera', '800000', 'Mumbai', '3', 'First Owner', '3', '1299', 'Ducati')\n",
      "('Royal Enfield Himalayan 410cc', '110000', 'Bangalore', '24676', 'First Owner', '5', '410', 'Royal Enfield')\n",
      "('Royal Enfield Classic 350cc', '92500', 'Delhi', '11000', 'First Owner', '6', '350', 'Royal Enfield')\n",
      "('Bajaj Pulsar NS200', '57000', 'Bangalore', '28948', 'First Owner', '5', '200', 'Bajaj')\n",
      "('Royal Enfield Electra 350cc', '72500', 'Delhi', '10000', 'First Owner', '10', '350', 'Royal Enfield')\n",
      "('KTM Duke 200cc', '68000', 'Delhi', '16000', 'First Owner', '9', '200', 'KTM')\n",
      "('TVS Phoenix Disc 125cc', '21500', 'Barasat', '10500', 'First Owner', '5', '125', 'TVS')\n",
      "('TVS Apache RTR 160cc', '40000', 'Delhi', '20000', 'First Owner', '6', '160', 'TVS')\n",
      "('Royal Enfield Classic 350cc', '91000', 'Delhi', '18000', 'First Owner', '5', '350', 'Royal Enfield')\n",
      "('Harley-Davidson Street 750', '300000', 'Ghaziabad', '3500', 'First Owner', '6', '750', 'Harley-Davidson')\n",
      "('Suzuki Gixxer SF 150cc', '47000', 'Jaipur', '70000', 'First Owner', '6', '150', 'Suzuki')\n",
      "('Suzuki Gixxer 150cc', '53000', 'Bangalore', '18158', 'First Owner', '6', '150', 'Suzuki')\n",
      "('Suzuki Gixxer 150cc', '51000', 'Bangalore', '39140', 'First Owner', '5', '150', 'Suzuki')\n",
      "('Bajaj Pulsar 220F', '48000', 'Bangalore', '27776', 'First Owner', '8', '220', 'Bajaj')\n",
      "('Bajaj Pulsar 220cc', '55000', 'Bangalore', '32734', 'First Owner', '6', '220', 'Bajaj')\n",
      "('Royal Enfield Himalayan 410cc Fi ABS', '173300', 'Vadodara', '14000', 'First Owner', '2', '410', 'Royal Enfield')\n",
      "('Royal Enfield Bullet Electra 350cc', '77000', 'Delhi', '13000', 'First Owner', '8', '350', 'Royal Enfield')\n",
      "('Bajaj Pulsar NS200', '115000', 'Bangalore', '5000', 'First Owner', '2', '200', 'Bajaj')\n",
      "('Bajaj Discover 150cc', '36000', 'Hyderabad', '39500', 'First Owner', '7', '150', 'Bajaj')\n",
      "('Bajaj Avenger Street 220', '72000', 'Hyderabad', '29500', 'First Owner', '4', '220', 'Bajaj')\n",
      "('Royal Enfield Standard 350cc', '115000', 'Hyderabad', '14900', 'First Owner', '3', '350', 'Royal Enfield')\n",
      "('Honda CB Shine 125cc Disc', '65000', 'Mumbai', '2000', 'First Owner', '3', '125', 'Honda')\n",
      "('Honda CB Unicorn ABS 150cc', '99000', 'Mumbai', '4000', 'First Owner', '2', '150', 'Honda')\n",
      "('Yamaha YZF-R15 2.0 150cc', '68500', 'Delhi', '68500', 'Second Owner', '7', '150', 'Yamaha')\n",
      "('Yamaha YZF-R15 V3 150cc', '140000', 'Delhi', '2473', 'First Owner', '2', '150', 'Yamaha')\n"
     ]
    }
   ],
   "source": [
    "import pathlib\n",
    "import csv\n",
    "import mysql.connector\n",
    "\n",
    "csv_path = pathlib.Path.cwd() / \"clean_file.csv\"\n",
    "\n",
    "dict_list = list()\n",
    "with csv_path.open(mode=\"r\") as csv_reader:\n",
    "    csv_reader = csv.reader(csv_reader)\n",
    "    for rows in csv_reader:\n",
    "        dict_list.append({'bike_name':rows[0], 'price':rows[1], 'city':rows[2],'kms_driven':rows[3], 'owner':rows[4], 'age':rows[5], 'power':rows[6], 'brand':rows[7]})\n",
    "\n",
    "mydatabase = mysql.connector.connect(host=\"localhost\",port='3307', user=\"root\", password=\"aditya@1\",database=\"adityadb\")\n",
    "\n",
    "mycursor = mydatabase.cursor()\n",
    "mycursor.execute(\"CREATE TABLE task_table (bike_name VARCHAR(600),price varchar(200),city VARCHAR(600), kms_driven varchar(100),owner varchar(200),age varchar(100),power varchar(100) ,brand Varchar(100))\")\n",
    "for item in dict_list:\n",
    "    sql = \"INSERT INTO task_table(bike_name,price,city,kms_driven,owner,age,power,brand) VALUES (%s, %s, %s,%s,%s,%s,%s,%s)\"\n",
    "    val = item['bike_name'], item['price'], item['city'],item['kms_driven'],item['owner'],item['age'], item['power'],item['brand']\n",
    "    mycursor.execute(sql, val)\n",
    "mydatabase.commit()\n",
    "mycursor.execute('SELECT * FROM task_table')\n",
    "myresult = mycursor.fetchall()\n",
    "for x in myresult:\n",
    "    print(x)\n",
    "mydatabase.close()"
   ]
  },
  {
   "cell_type": "code",
   "execution_count": null,
   "metadata": {},
   "outputs": [],
   "source": []
  },
  {
   "cell_type": "code",
   "execution_count": null,
   "metadata": {},
   "outputs": [],
   "source": []
  },
  {
   "cell_type": "code",
   "execution_count": null,
   "metadata": {},
   "outputs": [],
   "source": []
  },
  {
   "cell_type": "code",
   "execution_count": null,
   "metadata": {},
   "outputs": [],
   "source": []
  },
  {
   "cell_type": "code",
   "execution_count": null,
   "metadata": {},
   "outputs": [],
   "source": []
  },
  {
   "cell_type": "code",
   "execution_count": null,
   "metadata": {},
   "outputs": [],
   "source": []
  }
 ],
 "metadata": {
  "kernelspec": {
   "display_name": "Python 3.7.13 ('myenv')",
   "language": "python",
   "name": "python3"
  },
  "language_info": {
   "codemirror_mode": {
    "name": "ipython",
    "version": 3
   },
   "file_extension": ".py",
   "mimetype": "text/x-python",
   "name": "python",
   "nbconvert_exporter": "python",
   "pygments_lexer": "ipython3",
   "version": "3.7.13"
  },
  "orig_nbformat": 4,
  "vscode": {
   "interpreter": {
    "hash": "4ac67a15712373374610a0ccdefbdc755fa713735711d116918bea5308f0131c"
   }
  }
 },
 "nbformat": 4,
 "nbformat_minor": 2
}
